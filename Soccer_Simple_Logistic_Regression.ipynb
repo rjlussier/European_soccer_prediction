{
 "cells": [
  {
   "cell_type": "code",
   "execution_count": 20,
   "metadata": {},
   "outputs": [],
   "source": [
    "# load relevant libraries\n",
    "import numpy as np\n",
    "import pandas as pd\n",
    "import matplotlib.pyplot as plt\n",
    "\n",
    "import seaborn as sns\n",
    "sns.set(style=\"white\")\n",
    "sns.set(style=\"whitegrid\", color_codes=True)\n",
    "\n",
    "from sklearn.model_selection import train_test_split\n",
    "from sklearn.linear_model import LogisticRegression\n",
    "from sklearn import metrics\n",
    "from sklearn.metrics import confusion_matrix"
   ]
  },
  {
   "cell_type": "code",
   "execution_count": 3,
   "metadata": {},
   "outputs": [],
   "source": [
    "# import data\n",
    "events = pd.read_csv('data/premier_league_events.csv')"
   ]
  },
  {
   "cell_type": "code",
   "execution_count": 4,
   "metadata": {},
   "outputs": [
    {
     "data": {
      "text/html": [
       "<div>\n",
       "<style scoped>\n",
       "    .dataframe tbody tr th:only-of-type {\n",
       "        vertical-align: middle;\n",
       "    }\n",
       "\n",
       "    .dataframe tbody tr th {\n",
       "        vertical-align: top;\n",
       "    }\n",
       "\n",
       "    .dataframe thead th {\n",
       "        text-align: right;\n",
       "    }\n",
       "</style>\n",
       "<table border=\"1\" class=\"dataframe\">\n",
       "  <thead>\n",
       "    <tr style=\"text-align: right;\">\n",
       "      <th></th>\n",
       "      <th>matchId</th>\n",
       "      <th>matchPeriod</th>\n",
       "      <th>id</th>\n",
       "      <th>eventSec</th>\n",
       "      <th>start_x</th>\n",
       "      <th>start_y</th>\n",
       "      <th>end_x</th>\n",
       "      <th>end_y</th>\n",
       "      <th>eventId</th>\n",
       "      <th>eventName</th>\n",
       "      <th>...</th>\n",
       "      <th>clearance</th>\n",
       "      <th>slidingTackle</th>\n",
       "      <th>redCard</th>\n",
       "      <th>yellowCard</th>\n",
       "      <th>secondYellowCard</th>\n",
       "      <th>accurate</th>\n",
       "      <th>inaccurate</th>\n",
       "      <th>counterAttack</th>\n",
       "      <th>dangerousBallLost</th>\n",
       "      <th>blocked</th>\n",
       "    </tr>\n",
       "  </thead>\n",
       "  <tbody>\n",
       "    <tr>\n",
       "      <td>0</td>\n",
       "      <td>2499719</td>\n",
       "      <td>1H</td>\n",
       "      <td>177959171</td>\n",
       "      <td>2.758649</td>\n",
       "      <td>49</td>\n",
       "      <td>49</td>\n",
       "      <td>31</td>\n",
       "      <td>78</td>\n",
       "      <td>8</td>\n",
       "      <td>Pass</td>\n",
       "      <td>...</td>\n",
       "      <td>0</td>\n",
       "      <td>0</td>\n",
       "      <td>0</td>\n",
       "      <td>0</td>\n",
       "      <td>0</td>\n",
       "      <td>1</td>\n",
       "      <td>0</td>\n",
       "      <td>0</td>\n",
       "      <td>0</td>\n",
       "      <td>0</td>\n",
       "    </tr>\n",
       "    <tr>\n",
       "      <td>1</td>\n",
       "      <td>2499719</td>\n",
       "      <td>1H</td>\n",
       "      <td>177959172</td>\n",
       "      <td>4.946850</td>\n",
       "      <td>31</td>\n",
       "      <td>78</td>\n",
       "      <td>51</td>\n",
       "      <td>75</td>\n",
       "      <td>8</td>\n",
       "      <td>Pass</td>\n",
       "      <td>...</td>\n",
       "      <td>0</td>\n",
       "      <td>0</td>\n",
       "      <td>0</td>\n",
       "      <td>0</td>\n",
       "      <td>0</td>\n",
       "      <td>1</td>\n",
       "      <td>0</td>\n",
       "      <td>0</td>\n",
       "      <td>0</td>\n",
       "      <td>0</td>\n",
       "    </tr>\n",
       "    <tr>\n",
       "      <td>2</td>\n",
       "      <td>2499719</td>\n",
       "      <td>1H</td>\n",
       "      <td>177959173</td>\n",
       "      <td>6.542188</td>\n",
       "      <td>51</td>\n",
       "      <td>75</td>\n",
       "      <td>35</td>\n",
       "      <td>71</td>\n",
       "      <td>8</td>\n",
       "      <td>Pass</td>\n",
       "      <td>...</td>\n",
       "      <td>0</td>\n",
       "      <td>0</td>\n",
       "      <td>0</td>\n",
       "      <td>0</td>\n",
       "      <td>0</td>\n",
       "      <td>1</td>\n",
       "      <td>0</td>\n",
       "      <td>0</td>\n",
       "      <td>0</td>\n",
       "      <td>0</td>\n",
       "    </tr>\n",
       "    <tr>\n",
       "      <td>3</td>\n",
       "      <td>2499719</td>\n",
       "      <td>1H</td>\n",
       "      <td>177959174</td>\n",
       "      <td>8.143395</td>\n",
       "      <td>35</td>\n",
       "      <td>71</td>\n",
       "      <td>41</td>\n",
       "      <td>95</td>\n",
       "      <td>8</td>\n",
       "      <td>Pass</td>\n",
       "      <td>...</td>\n",
       "      <td>0</td>\n",
       "      <td>0</td>\n",
       "      <td>0</td>\n",
       "      <td>0</td>\n",
       "      <td>0</td>\n",
       "      <td>1</td>\n",
       "      <td>0</td>\n",
       "      <td>0</td>\n",
       "      <td>0</td>\n",
       "      <td>0</td>\n",
       "    </tr>\n",
       "    <tr>\n",
       "      <td>4</td>\n",
       "      <td>2499719</td>\n",
       "      <td>1H</td>\n",
       "      <td>177959175</td>\n",
       "      <td>10.302366</td>\n",
       "      <td>41</td>\n",
       "      <td>95</td>\n",
       "      <td>72</td>\n",
       "      <td>88</td>\n",
       "      <td>8</td>\n",
       "      <td>Pass</td>\n",
       "      <td>...</td>\n",
       "      <td>0</td>\n",
       "      <td>0</td>\n",
       "      <td>0</td>\n",
       "      <td>0</td>\n",
       "      <td>0</td>\n",
       "      <td>1</td>\n",
       "      <td>0</td>\n",
       "      <td>0</td>\n",
       "      <td>0</td>\n",
       "      <td>0</td>\n",
       "    </tr>\n",
       "  </tbody>\n",
       "</table>\n",
       "<p>5 rows × 75 columns</p>\n",
       "</div>"
      ],
      "text/plain": [
       "   matchId matchPeriod         id   eventSec  start_x  start_y  end_x  end_y  \\\n",
       "0  2499719          1H  177959171   2.758649       49       49     31     78   \n",
       "1  2499719          1H  177959172   4.946850       31       78     51     75   \n",
       "2  2499719          1H  177959173   6.542188       51       75     35     71   \n",
       "3  2499719          1H  177959174   8.143395       35       71     41     95   \n",
       "4  2499719          1H  177959175  10.302366       41       95     72     88   \n",
       "\n",
       "   eventId eventName  ...  clearance slidingTackle  redCard  yellowCard  \\\n",
       "0        8      Pass  ...          0             0        0           0   \n",
       "1        8      Pass  ...          0             0        0           0   \n",
       "2        8      Pass  ...          0             0        0           0   \n",
       "3        8      Pass  ...          0             0        0           0   \n",
       "4        8      Pass  ...          0             0        0           0   \n",
       "\n",
       "  secondYellowCard  accurate  inaccurate  counterAttack  dangerousBallLost  \\\n",
       "0                0         1           0              0                  0   \n",
       "1                0         1           0              0                  0   \n",
       "2                0         1           0              0                  0   \n",
       "3                0         1           0              0                  0   \n",
       "4                0         1           0              0                  0   \n",
       "\n",
       "   blocked  \n",
       "0        0  \n",
       "1        0  \n",
       "2        0  \n",
       "3        0  \n",
       "4        0  \n",
       "\n",
       "[5 rows x 75 columns]"
      ]
     },
     "execution_count": 4,
     "metadata": {},
     "output_type": "execute_result"
    }
   ],
   "source": [
    "events.head()"
   ]
  },
  {
   "cell_type": "code",
   "execution_count": 6,
   "metadata": {},
   "outputs": [
    {
     "data": {
      "image/png": "[encoded data removed]",
      "text/plain": [
       "<Figure size 432x288 with 1 Axes>"
      ]
     },
     "metadata": {
      "needs_background": "light"
     },
     "output_type": "display_data"
    }
   ],
   "source": [
    "# take a subset for any shots on goal\n",
    "shots = events[events.eventName == 'Shot']\n",
    "\n",
    "# make a countplot of goals and misses\n",
    "sns.countplot(x='goal', data=shots)\n",
    "plt.title('Count plot of Shots and Goals')\n",
    "plt.xlabel('Is it a goal?')\n",
    "plt.ylabel('Count')\n",
    "plt.show()"
   ]
  },
  {
   "cell_type": "markdown",
   "metadata": {},
   "source": [
    "As you can see the data is very imbalanced, with much fewer goals than misses. To solve this problem for our preliminary model we will simply undersample the missed shots."
   ]
  },
  {
   "cell_type": "code",
   "execution_count": 15,
   "metadata": {},
   "outputs": [
    {
     "data": {
      "image/png": "[encoded data removed]",
      "text/plain": [
       "<Figure size 432x288 with 1 Axes>"
      ]
     },
     "metadata": {
      "needs_background": "light"
     },
     "output_type": "display_data"
    }
   ],
   "source": [
    "num_goals = len(shots[shots.goal == 1])\n",
    "\n",
    "# filter out the goals/missed shots so we can undersample\n",
    "misses = shots[shots.goal == 0]\n",
    "goals = shots[shots.goal ==1]\n",
    "\n",
    "# undersample the misses so the number matches the number of goals in the dataset\n",
    "misses_sample = misses.sample(n=num_goals, random_state=42)\n",
    "\n",
    "# remerge the datasets and sort by index\n",
    "shots_resamp = goals.append(misses_sample)\n",
    "shots_resamp.sort_index(inplace=True)\n",
    "\n",
    "# plot counts to check for balance\n",
    "sns.countplot(x='goal', data=shots_resamp)\n",
    "plt.title('Count plot of Shots and Goals')\n",
    "plt.xlabel('Is it a goal?')\n",
    "plt.ylabel('Count')\n",
    "plt.show()"
   ]
  },
  {
   "cell_type": "markdown",
   "metadata": {},
   "source": [
    "The above count plot shows that the dataset is now balanced. However, the downside of undersampling is that we have just thrown away almost 80% of our data. This will have a negative impact on the model's predictive power and we will explore other options as we make the model more robust."
   ]
  },
  {
   "cell_type": "code",
   "execution_count": 16,
   "metadata": {},
   "outputs": [
    {
     "name": "stderr",
     "output_type": "stream",
     "text": [
      "/opt/anaconda3/lib/python3.7/site-packages/sklearn/linear_model/logistic.py:432: FutureWarning: Default solver will be changed to 'lbfgs' in 0.22. Specify a solver to silence this warning.\n",
      "  FutureWarning)\n"
     ]
    },
    {
     "data": {
      "text/plain": [
       "LogisticRegression(C=1.0, class_weight=None, dual=False, fit_intercept=True,\n",
       "                   intercept_scaling=1, l1_ratio=None, max_iter=100,\n",
       "                   multi_class='warn', n_jobs=None, penalty='l2',\n",
       "                   random_state=None, solver='warn', tol=0.0001, verbose=0,\n",
       "                   warm_start=False)"
      ]
     },
     "execution_count": 16,
     "metadata": {},
     "output_type": "execute_result"
    }
   ],
   "source": [
    "# split data into x and y values\n",
    "X = shots_resamp[['start_y', 'start_x']]\n",
    "y = shots_resamp.goal\n",
    "\n",
    "# split data into training/testing sets\n",
    "X_train, X_test, y_train, y_test = train_test_split(X, y, test_size=0.20, random_state=42)\n",
    "\n",
    "logreg = LogisticRegression()\n",
    "logreg.fit(X_train, y_train)"
   ]
  },
  {
   "cell_type": "code",
   "execution_count": 17,
   "metadata": {},
   "outputs": [
    {
     "name": "stdout",
     "output_type": "stream",
     "text": [
      "Accuracy of logistic regression classifier on test set: 0.68\n"
     ]
    }
   ],
   "source": [
    "y_pred = logreg.predict(X_test)\n",
    "print('Accuracy of logistic regression classifier on test set: {:.2f}'.format(logreg.score(X_test, y_test)))"
   ]
  },
  {
   "cell_type": "code",
   "execution_count": 22,
   "metadata": {},
   "outputs": [
    {
     "name": "stdout",
     "output_type": "stream",
     "text": [
      "[[116  81]\n",
      " [ 35 134]]\n"
     ]
    }
   ],
   "source": [
    "\n",
    "cf_matrix = confusion_matrix(y_test, y_pred)\n",
    "print(cf_matrix)"
   ]
  },
  {
   "cell_type": "code",
   "execution_count": 25,
   "metadata": {},
   "outputs": [
    {
     "name": "stdout",
     "output_type": "stream",
     "text": [
      "              precision    recall  f1-score   support\n",
      "\n",
      "           0       0.77      0.59      0.67       197\n",
      "           1       0.62      0.79      0.70       169\n",
      "\n",
      "    accuracy                           0.68       366\n",
      "   macro avg       0.70      0.69      0.68       366\n",
      "weighted avg       0.70      0.68      0.68       366\n",
      "\n"
     ]
    }
   ],
   "source": [
    "print(metrics.classification_report(y_test, y_pred) )"
   ]
  },
  {
   "cell_type": "code",
   "execution_count": null,
   "metadata": {},
   "outputs": [],
   "source": []
  }
 ],
 "metadata": {
  "kernelspec": {
   "display_name": "Python 3",
   "language": "python",
   "name": "python3"
  },
  "language_info": {
   "codemirror_mode": {
    "name": "ipython",
    "version": 3
   },
   "file_extension": ".py",
   "mimetype": "text/x-python",
   "name": "python",
   "nbconvert_exporter": "python",
   "pygments_lexer": "ipython3",
   "version": "3.7.4"
  }
 },
 "nbformat": 4,
 "nbformat_minor": 2
}
