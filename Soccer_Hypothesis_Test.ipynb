{
 "cells": [
  {
   "cell_type": "code",
   "execution_count": 49,
   "metadata": {},
   "outputs": [],
   "source": [
    "# load required libraries\n",
    "import pandas as pd\n",
    "import numpy as np\n",
    "from scipy.stats import t\n",
    "from scipy.stats import ttest_ind\n",
    "import matplotlib.pyplot as plt\n",
    "import matplotlib.patches as patches\n",
    "import seaborn as sns\n",
    "sns.set(style=\"whitegrid\", color_codes=True)\n",
    "sns.set_palette('GnBu_d')\n",
    "from copy import copy"
   ]
  },
  {
   "cell_type": "code",
   "execution_count": 34,
   "metadata": {},
   "outputs": [],
   "source": [
    "# import data\n",
    "players = pd.read_csv('data/premier_league_players.csv', index_col='playerId')\n",
    "events = pd.read_csv('data/premier_league_events.csv')"
   ]
  },
  {
   "cell_type": "code",
   "execution_count": 4,
   "metadata": {},
   "outputs": [
    {
     "data": {
      "text/html": [
       "<div>\n",
       "<style scoped>\n",
       "    .dataframe tbody tr th:only-of-type {\n",
       "        vertical-align: middle;\n",
       "    }\n",
       "\n",
       "    .dataframe tbody tr th {\n",
       "        vertical-align: top;\n",
       "    }\n",
       "\n",
       "    .dataframe thead th {\n",
       "        text-align: right;\n",
       "    }\n",
       "</style>\n",
       "<table border=\"1\" class=\"dataframe\">\n",
       "  <thead>\n",
       "    <tr style=\"text-align: right;\">\n",
       "      <th></th>\n",
       "      <th>matchId</th>\n",
       "      <th>matchPeriod</th>\n",
       "      <th>id</th>\n",
       "      <th>eventSec</th>\n",
       "      <th>start_x</th>\n",
       "      <th>start_y</th>\n",
       "      <th>end_x</th>\n",
       "      <th>end_y</th>\n",
       "      <th>eventId</th>\n",
       "      <th>eventName</th>\n",
       "      <th>...</th>\n",
       "      <th>clearance</th>\n",
       "      <th>slidingTackle</th>\n",
       "      <th>redCard</th>\n",
       "      <th>yellowCard</th>\n",
       "      <th>secondYellowCard</th>\n",
       "      <th>accurate</th>\n",
       "      <th>inaccurate</th>\n",
       "      <th>counterAttack</th>\n",
       "      <th>dangerousBallLost</th>\n",
       "      <th>blocked</th>\n",
       "    </tr>\n",
       "  </thead>\n",
       "  <tbody>\n",
       "    <tr>\n",
       "      <td>0</td>\n",
       "      <td>2499719</td>\n",
       "      <td>1H</td>\n",
       "      <td>177959171</td>\n",
       "      <td>2.758649</td>\n",
       "      <td>49</td>\n",
       "      <td>49</td>\n",
       "      <td>31</td>\n",
       "      <td>78</td>\n",
       "      <td>8</td>\n",
       "      <td>Pass</td>\n",
       "      <td>...</td>\n",
       "      <td>0</td>\n",
       "      <td>0</td>\n",
       "      <td>0</td>\n",
       "      <td>0</td>\n",
       "      <td>0</td>\n",
       "      <td>1</td>\n",
       "      <td>0</td>\n",
       "      <td>0</td>\n",
       "      <td>0</td>\n",
       "      <td>0</td>\n",
       "    </tr>\n",
       "    <tr>\n",
       "      <td>1</td>\n",
       "      <td>2499719</td>\n",
       "      <td>1H</td>\n",
       "      <td>177959172</td>\n",
       "      <td>4.946850</td>\n",
       "      <td>31</td>\n",
       "      <td>78</td>\n",
       "      <td>51</td>\n",
       "      <td>75</td>\n",
       "      <td>8</td>\n",
       "      <td>Pass</td>\n",
       "      <td>...</td>\n",
       "      <td>0</td>\n",
       "      <td>0</td>\n",
       "      <td>0</td>\n",
       "      <td>0</td>\n",
       "      <td>0</td>\n",
       "      <td>1</td>\n",
       "      <td>0</td>\n",
       "      <td>0</td>\n",
       "      <td>0</td>\n",
       "      <td>0</td>\n",
       "    </tr>\n",
       "    <tr>\n",
       "      <td>2</td>\n",
       "      <td>2499719</td>\n",
       "      <td>1H</td>\n",
       "      <td>177959173</td>\n",
       "      <td>6.542188</td>\n",
       "      <td>51</td>\n",
       "      <td>75</td>\n",
       "      <td>35</td>\n",
       "      <td>71</td>\n",
       "      <td>8</td>\n",
       "      <td>Pass</td>\n",
       "      <td>...</td>\n",
       "      <td>0</td>\n",
       "      <td>0</td>\n",
       "      <td>0</td>\n",
       "      <td>0</td>\n",
       "      <td>0</td>\n",
       "      <td>1</td>\n",
       "      <td>0</td>\n",
       "      <td>0</td>\n",
       "      <td>0</td>\n",
       "      <td>0</td>\n",
       "    </tr>\n",
       "    <tr>\n",
       "      <td>3</td>\n",
       "      <td>2499719</td>\n",
       "      <td>1H</td>\n",
       "      <td>177959174</td>\n",
       "      <td>8.143395</td>\n",
       "      <td>35</td>\n",
       "      <td>71</td>\n",
       "      <td>41</td>\n",
       "      <td>95</td>\n",
       "      <td>8</td>\n",
       "      <td>Pass</td>\n",
       "      <td>...</td>\n",
       "      <td>0</td>\n",
       "      <td>0</td>\n",
       "      <td>0</td>\n",
       "      <td>0</td>\n",
       "      <td>0</td>\n",
       "      <td>1</td>\n",
       "      <td>0</td>\n",
       "      <td>0</td>\n",
       "      <td>0</td>\n",
       "      <td>0</td>\n",
       "    </tr>\n",
       "    <tr>\n",
       "      <td>4</td>\n",
       "      <td>2499719</td>\n",
       "      <td>1H</td>\n",
       "      <td>177959175</td>\n",
       "      <td>10.302366</td>\n",
       "      <td>41</td>\n",
       "      <td>95</td>\n",
       "      <td>72</td>\n",
       "      <td>88</td>\n",
       "      <td>8</td>\n",
       "      <td>Pass</td>\n",
       "      <td>...</td>\n",
       "      <td>0</td>\n",
       "      <td>0</td>\n",
       "      <td>0</td>\n",
       "      <td>0</td>\n",
       "      <td>0</td>\n",
       "      <td>1</td>\n",
       "      <td>0</td>\n",
       "      <td>0</td>\n",
       "      <td>0</td>\n",
       "      <td>0</td>\n",
       "    </tr>\n",
       "  </tbody>\n",
       "</table>\n",
       "<p>5 rows × 75 columns</p>\n",
       "</div>"
      ],
      "text/plain": [
       "   matchId matchPeriod         id   eventSec  start_x  start_y  end_x  end_y  \\\n",
       "0  2499719          1H  177959171   2.758649       49       49     31     78   \n",
       "1  2499719          1H  177959172   4.946850       31       78     51     75   \n",
       "2  2499719          1H  177959173   6.542188       51       75     35     71   \n",
       "3  2499719          1H  177959174   8.143395       35       71     41     95   \n",
       "4  2499719          1H  177959175  10.302366       41       95     72     88   \n",
       "\n",
       "   eventId eventName  ...  clearance slidingTackle  redCard  yellowCard  \\\n",
       "0        8      Pass  ...          0             0        0           0   \n",
       "1        8      Pass  ...          0             0        0           0   \n",
       "2        8      Pass  ...          0             0        0           0   \n",
       "3        8      Pass  ...          0             0        0           0   \n",
       "4        8      Pass  ...          0             0        0           0   \n",
       "\n",
       "  secondYellowCard  accurate  inaccurate  counterAttack  dangerousBallLost  \\\n",
       "0                0         1           0              0                  0   \n",
       "1                0         1           0              0                  0   \n",
       "2                0         1           0              0                  0   \n",
       "3                0         1           0              0                  0   \n",
       "4                0         1           0              0                  0   \n",
       "\n",
       "   blocked  \n",
       "0        0  \n",
       "1        0  \n",
       "2        0  \n",
       "3        0  \n",
       "4        0  \n",
       "\n",
       "[5 rows x 75 columns]"
      ]
     },
     "execution_count": 4,
     "metadata": {},
     "output_type": "execute_result"
    }
   ],
   "source": [
    "events.head()"
   ]
  },
  {
   "cell_type": "markdown",
   "metadata": {},
   "source": [
    "## Is Mo Salah's avg y position different from everyone else?\n",
    "\n",
    "#### H0: Mo Salah shoots the ball from the same y position as everyone else.\n",
    "#### H1: Mo Salah shoots the ball from a different y position than everyone else\n",
    "\n",
    "To evaluate this we will assume Mo Salah is independent of the rest of the field and complete an independent t-test. Before we get to the t-test, however, let's take a look at the distributions."
   ]
  },
  {
   "cell_type": "code",
   "execution_count": 105,
   "metadata": {},
   "outputs": [],
   "source": [
    "# create a dataframe of all shots\n",
    "# filter out corner kicks/penalty kicks (y==0, y==100)\n",
    "shots_df = events[(events.eventName == 'Shot') & (events.start_y < 100) & (events.start_y > 0)]\n",
    "\n",
    "# find mo salah's player ID\n",
    "mo_id = players[players.shortName == 'Mohamed Salah'].index[0]\n",
    "# slice the events df to only keep shots by mo salah\n",
    "mo_shots = shots_df[shots_df.playerId == mo_id]\n",
    "\n",
    "# subset the shots df to exclude observations involving mo salah\n",
    "shots_no_mo = shots_df[shots_df.playerId != mo_id]"
   ]
  },
  {
   "cell_type": "code",
   "execution_count": 114,
   "metadata": {},
   "outputs": [
    {
     "data": {
      "image/png": "[encoded data removed]",
      "text/plain": [
       "<Figure size 864x360 with 2 Axes>"
      ]
     },
     "metadata": {},
     "output_type": "display_data"
    }
   ],
   "source": [
    "# initialize subplots\n",
    "fig, (ax1, ax2) = plt.subplots(1, 2, figsize=(12,5))\n",
    "\n",
    "# add title to subplots\n",
    "fig.suptitle('Distribution of Shots Along y')\n",
    "\n",
    "# create histogram of all shots not involving mo\n",
    "ax1.hist(shots_no_mo.start_y, bins=20)\n",
    "# add title, x/y labels, and limits\n",
    "ax1.set_title('All shots, excluding Mo Salah')\n",
    "ax1.set_xlabel('y position (%)')\n",
    "ax1.set_xlim(0, 100)\n",
    "ax1.set_ylabel('Number of Shots')\n",
    "shots_mean_y = np.mean(shots_no_mo.start_y)\n",
    "# add vertical line at mean\n",
    "ax1.axvline(shots_mean_y, color='r', linestyle = '--')\n",
    "\n",
    "# create histogram of all mo salah shots\n",
    "ax2.hist(mo_shots.start_y, bins=10)\n",
    "# add title, x/y labels, and limits\n",
    "ax2.set_title('Mo Salah Shots')\n",
    "ax2.set_xlabel('y position (%)')\n",
    "ax2.set_xlim(0, 100)\n",
    "ax2.set_ylabel('Number of Shots')\n",
    "mo_mean_y = np.mean(mo_shots.start_y)\n",
    "# add vertical line at mean\n",
    "ax2.axvline(mo_mean_y, color='r', linestyle = '--')\n",
    "\n",
    "plt.show()"
   ]
  },
  {
   "cell_type": "markdown",
   "metadata": {},
   "source": [
    "In the histograms above, 0 represents the right sideline if you are facing the goal and 100 represents the left sideline. The positions are shown as a percentage of the field width. It appears that the mean of all players excluding Mo Salah is close to 50% while Mo is biased towards the left side of the goal. \n",
    "\n",
    "Now lets run the t-test to see if this difference is significant. Typically normality is assumed when running a t-test. This assumption seems to hold for all shots, but when looking at Mo exclusively the distribution is not as normally distributed. In this case we will overlook the less than ideal distribution because t-tests are robust to violations of the normality assumption. To read more about this robustness, check out [this link](https://blog.minitab.com/blog/understanding-statistics-and-its-application/what-should-i-do-if-my-data-is-not-normal-v2). \n"
   ]
  },
  {
   "cell_type": "code",
   "execution_count": 78,
   "metadata": {},
   "outputs": [
    {
     "name": "stdout",
     "output_type": "stream",
     "text": [
      "t statistic: 6.140147247988889\n",
      "p value: 8.610519188761847e-10\n"
     ]
    }
   ],
   "source": [
    "# calculate the t statistic and p value between the two samples\n",
    "t_stat, p_val = ttest_ind(mo_shots.start_y, shots_df.start_y)\n",
    "print('t statistic:', t_stat)\n",
    "print('p value:', p_val)"
   ]
  },
  {
   "cell_type": "markdown",
   "metadata": {},
   "source": [
    "The results of this test show a p value which is essentially 0 which makes a strong case for rejecting the null hypothesis. Let's take this a step further and compare the t-statistic to the critical t score. For this case we'll  set our confidence level to 0.95. "
   ]
  },
  {
   "cell_type": "code",
   "execution_count": 111,
   "metadata": {},
   "outputs": [
    {
     "name": "stdout",
     "output_type": "stream",
     "text": [
      "critical t score: 1.6450339959007674\n"
     ]
    }
   ],
   "source": [
    "# define probability\n",
    "p = 0.95\n",
    "# define degrees of freedom\n",
    "df = len(shots_no_mo) + len(mo_shots) - 2\n",
    "# retrieve value <= probability\n",
    "t_critical = t.ppf(p, df)\n",
    "print('critical t score:', t_critical)"
   ]
  },
  {
   "cell_type": "markdown",
   "metadata": {},
   "source": [
    "If we compare the t statisitic with the critical t score we find that 6.14 > 1.65 and we reject the null hypothesis. Thus we can conclude with 95% certainty that on average Mo Salah shoots the soccer ball from a different y position than everyone else. One possibile explanation for this may be that Salah prefers his left foot and thus plays to the left side of the goal where it is easier to control the ball and cross back toward the goal or the center of the field."
   ]
  },
  {
   "cell_type": "code",
   "execution_count": null,
   "metadata": {},
   "outputs": [],
   "source": []
  }
 ],
 "metadata": {
  "kernelspec": {
   "display_name": "Python 3",
   "language": "python",
   "name": "python3"
  },
  "language_info": {
   "codemirror_mode": {
    "name": "ipython",
    "version": 3
   },
   "file_extension": ".py",
   "mimetype": "text/x-python",
   "name": "python",
   "nbconvert_exporter": "python",
   "pygments_lexer": "ipython3",
   "version": "3.7.4"
  }
 },
 "nbformat": 4,
 "nbformat_minor": 2
}
