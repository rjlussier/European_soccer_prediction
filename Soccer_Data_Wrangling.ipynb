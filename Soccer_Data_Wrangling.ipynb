{
 "cells": [
  {
   "cell_type": "code",
   "execution_count": 1,
   "metadata": {},
   "outputs": [],
   "source": [
    "# load relevant libraries\n",
    "import numpy as np\n",
    "import pandas as pd"
   ]
  },
  {
   "cell_type": "code",
   "execution_count": 2,
   "metadata": {},
   "outputs": [],
   "source": [
    "# create pandas from json files\n",
    "teams_raw = pd.read_json('data/teams.json')\n",
    "matches_raw = pd.read_json('data/matches_England.json')\n",
    "events_raw = pd.read_json('data/events_England.json')\n",
    "players_raw = pd.read_json('data/players.json')\n",
    "ranks_raw = pd.read_json('data/player_rank.json')"
   ]
  },
  {
   "cell_type": "markdown",
   "metadata": {},
   "source": [
    "## In order to make the dataset size more manageable we will focus on the English Premier League. This includes 20 teams from the United Kingdom. The UK includes England, Wales, Northern Ireland, and Scotland."
   ]
  },
  {
   "cell_type": "code",
   "execution_count": 3,
   "metadata": {},
   "outputs": [],
   "source": [
    "# copy teams_raw to teams to start editing\n",
    "teams = teams_raw.copy()\n",
    "\n",
    "# rename some columns for clarity\n",
    "teams.rename(columns={\"wyId\": \"teamId\"}, inplace=True)\n",
    "\n",
    "# add country column to teams dataframe\n",
    "teams['country'] = teams.area.map(lambda v:v['name'])\n",
    "teams['countryId'] = teams.area.map(lambda v:v['id'])\n",
    "teams['countryId'] = teams.countryId.astype('int64')\n",
    "\n",
    "# drop redundant column 'area'\n",
    "teams.drop(['area'], axis=1, inplace=True)\n",
    "\n",
    "# filter teams data frame to only include countries in the UK, countryID is 0\n",
    "uk_teams = teams[(teams.countryId == 0)]\n",
    "\n",
    "# filter out national teams by only including club\n",
    "premier = uk_teams[uk_teams.type == 'club']\n",
    "\n",
    "# sort by teamId\n",
    "premier = premier.sort_values(['teamId'], axis=0, ascending=True)\n",
    "\n",
    "# reset index to start from 0\n",
    "premier = premier.reset_index(drop=True)\n",
    "\n",
    "# export cleaned dataframe to csv\n",
    "premier.to_csv('data/premier_league_teams.csv', index=False, header=True)"
   ]
  },
  {
   "cell_type": "markdown",
   "metadata": {},
   "source": [
    "## Now lets make some adjustments to the players data frame and then filter out players who aren't in the premier league"
   ]
  },
  {
   "cell_type": "code",
   "execution_count": 4,
   "metadata": {
    "scrolled": false
   },
   "outputs": [
    {
     "name": "stderr",
     "output_type": "stream",
     "text": [
      "/opt/anaconda3/lib/python3.7/site-packages/pandas/core/indexing.py:494: SettingWithCopyWarning: \n",
      "A value is trying to be set on a copy of a slice from a DataFrame.\n",
      "Try using .loc[row_indexer,col_indexer] = value instead\n",
      "\n",
      "See the caveats in the documentation: http://pandas.pydata.org/pandas-docs/stable/user_guide/indexing.html#returning-a-view-versus-a-copy\n",
      "  self.obj[item] = s\n",
      "/opt/anaconda3/lib/python3.7/site-packages/ipykernel_launcher.py:34: SettingWithCopyWarning: \n",
      "A value is trying to be set on a copy of a slice from a DataFrame.\n",
      "Try using .loc[row_indexer,col_indexer] = value instead\n",
      "\n",
      "See the caveats in the documentation: http://pandas.pydata.org/pandas-docs/stable/user_guide/indexing.html#returning-a-view-versus-a-copy\n"
     ]
    }
   ],
   "source": [
    "# copy players_raw to teams to start editing\n",
    "players = players_raw.copy()\n",
    "\n",
    "# rename some columns for clarity\n",
    "players.rename(columns={\"wyId\": \"playerId\"}, inplace=True)\n",
    "\n",
    "# add position column to players dataframe\n",
    "players['position'] = players.role.map(lambda v:v['code2'])\n",
    "\n",
    "# convert currentTeamId to numeric, and coerce 'null' strings to Nan\n",
    "players['currentTeamId'] = pd.to_numeric(players.currentTeamId, errors='coerce')\n",
    "# convert birthDate to datetime object\n",
    "players['birthDate'] = pd.to_datetime(players.birthDate)\n",
    "# replace 0 values in height and weight with Nan\n",
    "players['weight'] = players.weight.replace(0, np.nan)\n",
    "players['height'] = players.height.replace(0, np.nan)\n",
    "players['foot'] = players.foot.replace(['', 'null'], np.nan)\n",
    "\n",
    "# drop unnecessary columns\n",
    "players.drop(['passportArea', 'middleName', 'role', 'birthArea', 'currentNationalTeamId'], axis=1, inplace=True)\n",
    "\n",
    "# make list of uk teams\n",
    "uk_teams = premier.teamId.unique()\n",
    "# filter only uk players\n",
    "uk_players = players[players.currentTeamId.isin(uk_teams)]\n",
    "\n",
    "# Kyle Taylor shows as the only player with missing data now so lets fill it in manually\n",
    "# with data found here: https://www.fifaindex.com/player/239676/kyle-taylor/fifa20/\n",
    "# get the index for Kyle Taylor\n",
    "KT_idx = uk_players.index[(uk_players.firstName == 'Kyle') & (uk_players.lastName == 'Taylor')][0]\n",
    "uk_players.loc[KT_idx,['weight', 'height', 'foot']] = [70, 178, 'right']\n",
    "\n",
    "# this removed players with currentTeamId = Nan so lets convert to integer\n",
    "uk_players['currentTeamId'] = uk_players['currentTeamId'].astype('int64')\n",
    "\n",
    "# reset index\n",
    "uk_players = uk_players.reset_index(drop=True)\n",
    "\n",
    "# export cleaned dataframe to csv\n",
    "uk_players.to_csv('data/premier_league_players.csv', index=False, header=True)"
   ]
  },
  {
   "cell_type": "markdown",
   "metadata": {},
   "source": [
    "## Let's clean up the matches data frame. This was imported from a json which was already filtered to the premier league so no filtering is required here."
   ]
  },
  {
   "cell_type": "code",
   "execution_count": 5,
   "metadata": {
    "scrolled": true
   },
   "outputs": [],
   "source": [
    "# select desired columns for matches dataframe\n",
    "matches = matches_raw.loc[:,['wyId', 'teamsData', 'dateutc', 'winner']]\n",
    "\n",
    "# rename some columns for clarity\n",
    "matches.rename(columns={\"wyId\": \"matchId\"}, inplace=True)\n",
    "\n",
    "# initialize lists for building series\n",
    "team1_list = []\n",
    "team1_home = []\n",
    "team1_scores = []\n",
    "team2_list = []\n",
    "team2_scores = []\n",
    "\n",
    "# iterate through each row in dataframe\n",
    "for index, row in matches.iterrows():\n",
    "    # find dict keys\n",
    "    keys = list(row['teamsData'].keys())\n",
    "    # assign keys to team 1 and team 2\n",
    "    team1 = row['teamsData'][keys[0]]\n",
    "    team2 = row['teamsData'][keys[1]]\n",
    "    \n",
    "    # build lists for each team of relevant info\n",
    "    team1_list.append(team1['teamId'])\n",
    "    team1_scores.append(team1['score'])\n",
    "    team2_list.append(team2['teamId'])\n",
    "    team2_scores.append(team2['score'])\n",
    "    \n",
    "    # determine home team\n",
    "    if team1['side'] == 'home':\n",
    "        team1_home.append(1)\n",
    "    else:\n",
    "        team1_home.append(0)\n",
    "\n",
    "# create columns from lists generated above\n",
    "matches['team1'] = team1_list\n",
    "matches['team1_scores'] = team1_scores\n",
    "matches['team1_home'] = team1_home\n",
    "matches['team2'] = team2_list\n",
    "matches['team2_scores'] = team2_scores\n",
    "\n",
    "# remove redundant column\n",
    "matches.drop(['teamsData'], axis=1, inplace=True)\n",
    "\n",
    "# export cleaned dataframe to csv\n",
    "matches.to_csv('data/premier_league_matches.csv', index=False, header=True)"
   ]
  },
  {
   "cell_type": "markdown",
   "metadata": {},
   "source": [
    "## The player rank is already pretty clean so let's just filter out players who aren't in the premier league."
   ]
  },
  {
   "cell_type": "code",
   "execution_count": 6,
   "metadata": {},
   "outputs": [],
   "source": [
    "# copy ranks_raw to ranks to start editing\n",
    "ranks = ranks_raw.copy()\n",
    "\n",
    "# make list of uk players\n",
    "players_list = uk_players.playerId.unique()\n",
    "# filter only uk players\n",
    "uk_ranks = ranks[ranks.playerId.isin(players_list)]\n",
    "\n",
    "# sort by matchId\n",
    "uk_ranks = uk_ranks.sort_values(['matchId'], axis=0, ascending=True)\n",
    "\n",
    "# reset index to start from 0\n",
    "uk_ranks = uk_ranks.reset_index(drop=True)\n",
    "\n",
    "# export cleaned dataframe to csv\n",
    "uk_ranks.to_csv('data/premier_league_ranks.csv', index=False, header=True)"
   ]
  },
  {
   "cell_type": "markdown",
   "metadata": {},
   "source": [
    "## Let's clean up the events data set focusing on the tags and the xy positions."
   ]
  },
  {
   "cell_type": "code",
   "execution_count": 7,
   "metadata": {},
   "outputs": [],
   "source": [
    "# copy ranks_raw to ranks to start editing\n",
    "events = events_raw.copy()\n",
    "\n",
    "#split positions column into start and end position colums, then drop original column\n",
    "events[['start_pos', 'end_pos']] = pd.DataFrame(events.positions.values.tolist(), index=events.index)\n",
    "\n",
    "#drop rows where end pos is NaN. This occurs when there are certain fouls or protests\n",
    "events.dropna(inplace=True)\n",
    "#split start_pos and end_pos to start_x, start_y, end_x, end_y\n",
    "events[['start_y', 'start_x']] = pd.DataFrame(events.start_pos.values.tolist(), index=events.index)\n",
    "events[['end_y', 'end_x']] = pd.DataFrame(events.end_pos.values.tolist(), index=events.index)\n",
    "\n",
    "#remove columns which are no longer needed\n",
    "events.drop(['positions', 'start_pos', 'end_pos'], axis=1, inplace=True)\n",
    "\n",
    "# create new tags column with list instead of dictionary\n",
    "tag_list = []\n",
    "for index, row in events.iterrows():\n",
    "    tag_list.append([d['id'] for d in row['tags']])\n",
    "\n",
    "# overwrite the tags column with list\n",
    "events['tags'] = tag_list\n",
    "\n",
    "# export cleaned dataframe to csv\n",
    "events.to_csv('data/premier_league_events.csv', index=False, header=True)"
   ]
  },
  {
   "cell_type": "code",
   "execution_count": null,
   "metadata": {},
   "outputs": [],
   "source": []
  },
  {
   "cell_type": "code",
   "execution_count": null,
   "metadata": {},
   "outputs": [],
   "source": []
  },
  {
   "cell_type": "code",
   "execution_count": null,
   "metadata": {},
   "outputs": [],
   "source": []
  },
  {
   "cell_type": "code",
   "execution_count": null,
   "metadata": {},
   "outputs": [],
   "source": []
  },
  {
   "cell_type": "code",
   "execution_count": null,
   "metadata": {},
   "outputs": [],
   "source": []
  },
  {
   "cell_type": "code",
   "execution_count": null,
   "metadata": {},
   "outputs": [],
   "source": []
  },
  {
   "cell_type": "code",
   "execution_count": null,
   "metadata": {},
   "outputs": [],
   "source": []
  }
 ],
 "metadata": {
  "kernelspec": {
   "display_name": "Python 3",
   "language": "python",
   "name": "python3"
  },
  "language_info": {
   "codemirror_mode": {
    "name": "ipython",
    "version": 3
   },
   "file_extension": ".py",
   "mimetype": "text/x-python",
   "name": "python",
   "nbconvert_exporter": "python",
   "pygments_lexer": "ipython3",
   "version": "3.7.4"
  }
 },
 "nbformat": 4,
 "nbformat_minor": 2
}
